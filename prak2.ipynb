{
 "cells": [
  {
   "cell_type": "code",
   "execution_count": 1,
   "id": "5c88c706-f822-4be0-a7d0-820b8cd67390",
   "metadata": {},
   "outputs": [
    {
     "name": "stdout",
     "output_type": "stream",
     "text": [
      "Plain Text is : HELLO EVERYONE\n",
      "Shift pattern is : 1\n",
      "Cipher Text is : IFMMP FWFSZPOF\n"
     ]
    }
   ],
   "source": [
    "def encrypt_text(plaintext,n):\n",
    "    ans = \"\"\n",
    "    for i in range(len(plaintext)):\n",
    "        ch = plaintext[i]\n",
    "\n",
    "        if ch==\" \":\n",
    "            ans+=\" \"\n",
    "        elif (ch.isupper()):\n",
    "            ans += chr((ord(ch) + n - 65) % 26 + 65)\n",
    "        else:\n",
    "            ans += chr((ord(ch) + n - 97) % 26 + 97)\n",
    "\n",
    "    return ans\n",
    "\n",
    "plaintext = \"HELLO EVERYONE\"\n",
    "n = 1\n",
    "print(\"Plain Text is : \" + plaintext)\n",
    "print(\"Shift pattern is : \" + str(n))\n",
    "print(\"Cipher Text is : \" + encrypt_text(plaintext,n))\n"
   ]
  },
  {
   "cell_type": "code",
   "execution_count": null,
   "id": "8657f42c-d6bf-40fb-a3a8-b1bc3f89f5fb",
   "metadata": {},
   "outputs": [],
   "source": []
  }
 ],
 "metadata": {
  "kernelspec": {
   "display_name": "Python [conda env:base] *",
   "language": "python",
   "name": "conda-base-py"
  },
  "language_info": {
   "codemirror_mode": {
    "name": "ipython",
    "version": 3
   },
   "file_extension": ".py",
   "mimetype": "text/x-python",
   "name": "python",
   "nbconvert_exporter": "python",
   "pygments_lexer": "ipython3",
   "version": "3.12.7"
  }
 },
 "nbformat": 4,
 "nbformat_minor": 5
}
